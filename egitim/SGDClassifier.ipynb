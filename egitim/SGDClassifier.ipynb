{
 "cells": [
  {
   "cell_type": "markdown",
   "id": "46426d96-f2e5-4611-9d29-014b9f6d7223",
   "metadata": {
    "tags": []
   },
   "source": [
    "Faydalandığımız kaynaklar\n",
    "- https://scikit-learn.org/stable/auto_examples/model_selection/grid_search_text_feature_extraction.html\n",
    "- https://www.kaggle.com/code/akshitrai/chatbot-jarvis"
   ]
  },
  {
   "cell_type": "code",
   "execution_count": 1,
   "id": "9a8643b4-de90-4d6f-b445-799d94a237f1",
   "metadata": {},
   "outputs": [],
   "source": [
    "import os\n",
    "import json\n",
    "import numpy as np \n",
    "import string\n",
    "from unicode_tr import unicode_tr\n",
    "from nltk.corpus import stopwords\n",
    "from snowballstemmer import TurkishStemmer\n",
    "from nltk import ngrams\n",
    "import pandas as pd \n",
    "from sklearn.feature_extraction.text import CountVectorizer\n",
    "from sklearn.tree import DecisionTreeClassifier\n",
    "from sklearn.feature_extraction.text import TfidfTransformer,TfidfVectorizer\n",
    "from sklearn.pipeline import Pipeline\n",
    "from sklearn.ensemble import RandomForestClassifier\n",
    "from sklearn.linear_model import SGDClassifier\n",
    "from sklearn.model_selection import GridSearchCV\n",
    "from pprint import pprint\n",
    "from time import time"
   ]
  },
  {
   "cell_type": "code",
   "execution_count": 2,
   "id": "b8fab2e4-e620-4db7-b10a-b9733d7e2122",
   "metadata": {},
   "outputs": [],
   "source": [
    "path = r'..\\veri'\n",
    "\n",
    "def yukle():\n",
    "    liste = os.listdir(path)\n",
    "    final_path = path + \"\\\\\" + liste[-1]\n",
    "    print(final_path)\n",
    "    with open(final_path, encoding='utf-8') as f:\n",
    "        veri = json.load(f)\n",
    "    return veri"
   ]
  },
  {
   "cell_type": "code",
   "execution_count": 3,
   "id": "230e62b2-bae3-4e06-90f9-3958667fa291",
   "metadata": {},
   "outputs": [
    {
     "name": "stdout",
     "output_type": "stream",
     "text": [
      "..\\veri\\ankarabbSoruCevapVeriSetiJson-v12-onislenmis.json\n"
     ]
    }
   ],
   "source": [
    "df_ = yukle()"
   ]
  },
  {
   "cell_type": "code",
   "execution_count": 4,
   "id": "40d25087-db95-495e-b2cf-9371f0b6aff6",
   "metadata": {},
   "outputs": [],
   "source": [
    "questions, responses = [],[]\n",
    "\n",
    "\n",
    "for veri_ in df_:\n",
    "    for i, j in enumerate(df_[veri_]):\n",
    "        for k,l in enumerate(j[\"patterns\"]):\n",
    "            questions.append(l)\n",
    "            responses.append(df_[veri_][i][\"responses\"][0])\n",
    "        # for k,l in enumerate(j[\"responses\"]):\n",
    "        #     responses.append(l)"
   ]
  },
  {
   "cell_type": "code",
   "execution_count": 5,
   "id": "08535ed7-0561-4edb-a059-bf30ced34b8a",
   "metadata": {},
   "outputs": [],
   "source": [
    "df = pd.DataFrame([questions,responses]).T"
   ]
  },
  {
   "cell_type": "code",
   "execution_count": 6,
   "id": "bc404a50",
   "metadata": {},
   "outputs": [
    {
     "data": {
      "text/html": [
       "<div>\n",
       "<style scoped>\n",
       "    .dataframe tbody tr th:only-of-type {\n",
       "        vertical-align: middle;\n",
       "    }\n",
       "\n",
       "    .dataframe tbody tr th {\n",
       "        vertical-align: top;\n",
       "    }\n",
       "\n",
       "    .dataframe thead th {\n",
       "        text-align: right;\n",
       "    }\n",
       "</style>\n",
       "<table border=\"1\" class=\"dataframe\">\n",
       "  <thead>\n",
       "    <tr style=\"text-align: right;\">\n",
       "      <th></th>\n",
       "      <th>0</th>\n",
       "      <th>1</th>\n",
       "    </tr>\n",
       "  </thead>\n",
       "  <tbody>\n",
       "    <tr>\n",
       "      <th>0</th>\n",
       "      <td>öğrenci abonma kart yararlanma şart nelerdir? ...</td>\n",
       "      <td>1. Ankara Büyükşehir Belediye Başkanımız Sayın...</td>\n",
       "    </tr>\n",
       "    <tr>\n",
       "      <th>1</th>\n",
       "      <td>öğrenci iç abonma kart şart ne öğrenciiç içabo...</td>\n",
       "      <td>1. Ankara Büyükşehir Belediye Başkanımız Sayın...</td>\n",
       "    </tr>\n",
       "    <tr>\n",
       "      <th>2</th>\n",
       "      <td>abonma kart öğrenci şart abonmakart kartöğrenc...</td>\n",
       "      <td>1. Ankara Büyükşehir Belediye Başkanımız Sayın...</td>\n",
       "    </tr>\n",
       "    <tr>\n",
       "      <th>3</th>\n",
       "      <td>abonma kart iç öğrenci ne yapmal abonmakart ka...</td>\n",
       "      <td>1. Ankara Büyükşehir Belediye Başkanımız Sayın...</td>\n",
       "    </tr>\n",
       "    <tr>\n",
       "      <th>4</th>\n",
       "      <td>indirimli abonma kart iç öğrenci yapmas gereke...</td>\n",
       "      <td>1. Ankara Büyükşehir Belediye Başkanımız Sayın...</td>\n",
       "    </tr>\n",
       "    <tr>\n",
       "      <th>...</th>\n",
       "      <td>...</td>\n",
       "      <td>...</td>\n",
       "    </tr>\n",
       "    <tr>\n",
       "      <th>853</th>\n",
       "      <td>atıksu bedel ne atıksubedel bedelne</td>\n",
       "      <td>Ankara ili sınırları içinde idaremize ait kana...</td>\n",
       "    </tr>\n",
       "    <tr>\n",
       "      <th>854</th>\n",
       "      <td>atıksu bedel ne alınır atıksubedel bedelne nea...</td>\n",
       "      <td>Ankara ili sınırları içinde idaremize ait kana...</td>\n",
       "    </tr>\n",
       "    <tr>\n",
       "      <th>855</th>\n",
       "      <td>atıksu bedel hukuki dayanak ne atıksubedel bed...</td>\n",
       "      <td>Ankara ili sınırları içinde idaremize ait kana...</td>\n",
       "    </tr>\n",
       "    <tr>\n",
       "      <th>856</th>\n",
       "      <td>atıksu bedel ne zama alınma başla atıksubedel ...</td>\n",
       "      <td>Ankara ili sınırları içinde idaremize ait kana...</td>\n",
       "    </tr>\n",
       "    <tr>\n",
       "      <th>857</th>\n",
       "      <td>ne zama atıksu bedel alınma başla nezama zamaa...</td>\n",
       "      <td>Ankara ili sınırları içinde idaremize ait kana...</td>\n",
       "    </tr>\n",
       "  </tbody>\n",
       "</table>\n",
       "<p>858 rows × 2 columns</p>\n",
       "</div>"
      ],
      "text/plain": [
       "                                                     0  \\\n",
       "0    öğrenci abonma kart yararlanma şart nelerdir? ...   \n",
       "1    öğrenci iç abonma kart şart ne öğrenciiç içabo...   \n",
       "2    abonma kart öğrenci şart abonmakart kartöğrenc...   \n",
       "3    abonma kart iç öğrenci ne yapmal abonmakart ka...   \n",
       "4    indirimli abonma kart iç öğrenci yapmas gereke...   \n",
       "..                                                 ...   \n",
       "853                atıksu bedel ne atıksubedel bedelne   \n",
       "854  atıksu bedel ne alınır atıksubedel bedelne nea...   \n",
       "855  atıksu bedel hukuki dayanak ne atıksubedel bed...   \n",
       "856  atıksu bedel ne zama alınma başla atıksubedel ...   \n",
       "857  ne zama atıksu bedel alınma başla nezama zamaa...   \n",
       "\n",
       "                                                     1  \n",
       "0    1. Ankara Büyükşehir Belediye Başkanımız Sayın...  \n",
       "1    1. Ankara Büyükşehir Belediye Başkanımız Sayın...  \n",
       "2    1. Ankara Büyükşehir Belediye Başkanımız Sayın...  \n",
       "3    1. Ankara Büyükşehir Belediye Başkanımız Sayın...  \n",
       "4    1. Ankara Büyükşehir Belediye Başkanımız Sayın...  \n",
       "..                                                 ...  \n",
       "853  Ankara ili sınırları içinde idaremize ait kana...  \n",
       "854  Ankara ili sınırları içinde idaremize ait kana...  \n",
       "855  Ankara ili sınırları içinde idaremize ait kana...  \n",
       "856  Ankara ili sınırları içinde idaremize ait kana...  \n",
       "857  Ankara ili sınırları içinde idaremize ait kana...  \n",
       "\n",
       "[858 rows x 2 columns]"
      ]
     },
     "execution_count": 6,
     "metadata": {},
     "output_type": "execute_result"
    }
   ],
   "source": [
    "df"
   ]
  },
  {
   "cell_type": "code",
   "execution_count": 12,
   "id": "acfdcdc3",
   "metadata": {},
   "outputs": [
    {
     "name": "stdout",
     "output_type": "stream",
     "text": [
      "Performing grid search...\n",
      "pipeline: ['vect', 'tfidf', 'clf']\n",
      "parameters:\n",
      "{'clf__alpha': (1e-05, 1e-06),\n",
      " 'clf__max_iter': (10, 50, 80),\n",
      " 'clf__penalty': ('l2', 'elasticnet'),\n",
      " 'tfidf__norm': ('l1', 'l2'),\n",
      " 'tfidf__use_idf': (True, False),\n",
      " 'vect__max_df': (0.5, 0.75, 1.0),\n",
      " 'vect__max_features': (None, 5000, 10000, 50000),\n",
      " 'vect__ngram_range': ((1, 1), (1, 2))}\n",
      "Fitting 5 folds for each of 1152 candidates, totalling 5760 fits\n"
     ]
    },
    {
     "name": "stderr",
     "output_type": "stream",
     "text": [
      "c:\\Users\\alierenekinci\\anaconda3\\envs\\teknofestgpu\\lib\\site-packages\\sklearn\\model_selection\\_split.py:676: UserWarning: The least populated class in y has only 1 members, which is less than n_splits=5.\n",
      "  warnings.warn(\n"
     ]
    },
    {
     "name": "stdout",
     "output_type": "stream",
     "text": [
      "done in 114.045s\n",
      "\n",
      "Best score: 0.867\n",
      "Best parameters set:\n",
      "\tclf__alpha: 1e-05\n",
      "\tclf__max_iter: 50\n",
      "\tclf__penalty: 'elasticnet'\n",
      "\ttfidf__norm: 'l1'\n",
      "\ttfidf__use_idf: False\n",
      "\tvect__max_df: 0.75\n",
      "\tvect__max_features: 50000\n",
      "\tvect__ngram_range: (1, 1)\n"
     ]
    }
   ],
   "source": [
    "# Define a pipeline combining a text feature extractor with a simple classifier\n",
    "pipeline = Pipeline(\n",
    "    [\n",
    "        (\"vect\", CountVectorizer()),\n",
    "        (\"tfidf\", TfidfTransformer()),\n",
    "        (\"clf\", SGDClassifier()),\n",
    "    ]\n",
    ")\n",
    "\n",
    "# Parameters to use for grid search. Uncommenting more parameters will give\n",
    "# better exploring power but will increase processing time in a combinatorial\n",
    "# way\n",
    "parameters = {\n",
    "    \"vect__max_df\": (0.5, 0.75, 1.0),\n",
    "    'vect__max_features': (None, 5000, 10000, 50000),\n",
    "    \"vect__ngram_range\": ((1, 1), (1, 2)),  # unigrams or bigrams\n",
    "    'tfidf__use_idf': (True, False),\n",
    "    'tfidf__norm': ('l1', 'l2'),\n",
    "    \"clf__max_iter\": (20,),\n",
    "    \"clf__alpha\": (0.00001, 0.000001),\n",
    "    \"clf__penalty\": (\"l2\", \"elasticnet\"),\n",
    "    'clf__max_iter': (10, 50, 80),\n",
    "}\n",
    "\n",
    "# Find the best parameters for both the feature extraction and the\n",
    "# classifier\n",
    "grid_search = GridSearchCV(pipeline, parameters, n_jobs=-1, verbose=1)\n",
    "\n",
    "print(\"Performing grid search...\")\n",
    "print(\"pipeline:\", [name for name, _ in pipeline.steps])\n",
    "print(\"parameters:\")\n",
    "pprint(parameters)\n",
    "t0 = time()\n",
    "grid_search.fit(df[0],df[1])\n",
    "print(\"done in %0.3fs\" % (time() - t0))\n",
    "print()\n",
    "\n",
    "print(\"Best score: %0.3f\" % grid_search.best_score_)\n",
    "print(\"Best parameters set:\")\n",
    "best_parameters = grid_search.best_estimator_.get_params()\n",
    "for param_name in sorted(parameters.keys()):\n",
    "    print(\"\\t%s: %r\" % (param_name, best_parameters[param_name]))"
   ]
  },
  {
   "cell_type": "code",
   "execution_count": 15,
   "id": "10c873ec",
   "metadata": {},
   "outputs": [],
   "source": [
    "pipeline = Pipeline(\n",
    "    [\n",
    "        (\"vect\", CountVectorizer(max_df=0.75, max_features=50000, ngram_range=(1,1))),\n",
    "        (\"tfidf\", TfidfTransformer(norm=\"l1\", use_idf=False)),\n",
    "        (\"clf\", SGDClassifier(alpha=1e-05, max_iter=50, penalty=\"elasticnet\")),\n",
    "    ]\n",
    ")"
   ]
  },
  {
   "cell_type": "code",
   "execution_count": 16,
   "id": "9271cbb3-cfc5-431c-a85e-46def63438f1",
   "metadata": {},
   "outputs": [
    {
     "data": {
      "text/plain": [
       "Pipeline(steps=[('vect', CountVectorizer(max_df=0.75, max_features=50000)),\n",
       "                ('tfidf', TfidfTransformer(norm='l1', use_idf=False)),\n",
       "                ('clf',\n",
       "                 SGDClassifier(alpha=1e-05, max_iter=50,\n",
       "                               penalty='elasticnet'))])"
      ]
     },
     "execution_count": 16,
     "metadata": {},
     "output_type": "execute_result"
    }
   ],
   "source": [
    "pipeline.fit(df[0],df[1])"
   ]
  },
  {
   "cell_type": "code",
   "execution_count": 17,
   "id": "3d931ac9-a3ed-420d-b41c-8112cf67e46c",
   "metadata": {},
   "outputs": [],
   "source": [
    "def metin_onisle(metin):\n",
    "    kucuk_harfli_metin = unicode_tr(metin).lower()\n",
    "    istenen_karakterler = set(list(' abcdefghijklmnopqrstuvwxyzâçîöüğış0123456789'))\n",
    "    harfler = list(kucuk_harfli_metin)\n",
    "    harfler = [k if k in istenen_karakterler else ' ' for k in harfler]\n",
    "    temiz_dokuman = \"\".join(kucuk_harfli_metin)\n",
    "    temiz_dokuman_kelimeleri = temiz_dokuman.split(' ')\n",
    "    temiz_dokuman_kelimeleri = [kelime for kelime in temiz_dokuman_kelimeleri if len(kelime) > 0]\n",
    "    turkStem=TurkishStemmer()\n",
    "    temiz_dokuman_kelimeleri = [turkStem.stemWord(kelime) for kelime in temiz_dokuman_kelimeleri]\n",
    "    n = 2\n",
    "    bigrams = ngrams(temiz_dokuman_kelimeleri, n)\n",
    "    bigramstr = map(''.join, bigrams)\n",
    "    ngram = \" \".join(list(bigramstr))\n",
    "    temiz_dokuman = \" \".join(temiz_dokuman_kelimeleri) + \" \" +  \"\".join(ngram)\n",
    "    return temiz_dokuman"
   ]
  },
  {
   "cell_type": "code",
   "execution_count": 18,
   "id": "2634de48-e222-4b70-9ab6-c114bfae42fa",
   "metadata": {},
   "outputs": [
    {
     "data": {
      "text/plain": [
       "'Evlendirme Şube Müdürlüğü evlenmek için başvuruda bulunan Türk vatandaşı ve Yabancı uyruklu kişilerin evlilik başvurularını almakta ve Gençlik Parkı içerisinde 1 adet oda nikah salonunda oda nikahı hizmeti ve Ankara mücavir alan sınırları içerinde bulunan çiftlerin belirlediği mekanlara nikah memuru göndererek nikah hizmeti vermektedir.'"
      ]
     },
     "execution_count": 18,
     "metadata": {},
     "output_type": "execute_result"
    }
   ],
   "source": [
    "pipeline.predict([metin_onisle(\"Evlendirme İşlemleri Hizmetleri bilgi\")])[0]"
   ]
  },
  {
   "cell_type": "code",
   "execution_count": 19,
   "id": "1f65c8f8-352b-4edf-a148-d5efe22d7553",
   "metadata": {},
   "outputs": [
    {
     "data": {
      "text/plain": [
       "'Türkiye’nin en kapsamlı şehir kartı bir çok alanda hayatınızı kolaylaştırırken, siz de herhangi bir kart aidatı ödemezsiniz.'"
      ]
     },
     "execution_count": 19,
     "metadata": {},
     "output_type": "execute_result"
    }
   ],
   "source": [
    "pipeline.predict([metin_onisle(\"Başkent Kartın Aidat Ücreti\")])[0]"
   ]
  },
  {
   "cell_type": "code",
   "execution_count": 23,
   "id": "8288e4cb-7bee-4a7f-96c6-76e8f1c0651d",
   "metadata": {},
   "outputs": [
    {
     "data": {
      "text/plain": [
       "'Ailesinden birini kaybeden Ankaralılar, \"Alo 188\" Cenaze Merkezi\\'ni ve ya Başkent 153’ü arayarak yardım talebinde bulunabilirler. Merkez, ölüm raporunun alınmasından dini vecibelerin yerine getirilmesine kadar tüm hizmetleri ücretsiz olarak gerçekleştirmektedir. Tüm nakiller Büyükşehir Belediyesi\\'nin cenaze araçlarıyla yapılmaktadır. ALO 188 ekipleri, defin işleminin sonuna kadar vatandaşa destek sağlamaktadır.\\n\\nVefat olaylarında vatandaşların yapması gerekenler şunlardır:\\n\\n-Yaşanan bir ölüm olayında ALO 188 ücretsiz cenaze hattı aranarak bilgi verilir.\\n-Kişi evde vefat etmişse ALO 188 ya da İlçe Belediyesi Cenaze Hizmetlerini arayarak , hastanede vefat etmiş ise hastanenin ilgili biriminden ölüm belgesi alınır.\\n-Ölüm raporuyla vefat eden kişinin bağlı bulunduğu ilçe belediyesine müracaat edilir. Daha önce temin edilmiş mezar yeri yoksa veya mükerrer defin yapılmayacaksa Mezarlıklar Müdürlüğü ile görüşülmelidir.\\n-Fakir ve kimsesiz kişilerden durumlarını belgelemeleri halinde mezar ücreti alınmaz. Vefat edilen yerden cenaze alınarak, görevli ekipler tarafından yakınları eşliğinde ücretsiz olarak yıkanır ve kefenlenir.\\n-Camide gerekli dini vecibelerin yerine getirilmesinden sonra cenaze, araçlarla defin yerine götürülerek toprağa verilir.\\n-Kabir başında din görevlileri hazır bulunur ve ücretsiz olarak hizmet verir. Bu görevlilere herhangi bir ödeme yapılmaz ve kesinlikle bahşiş verilmez.\\n-Cenaze hemen defnedilmeyecekse Karşıyaka, Sincan ve Gölbaşı mezarlıklarında bulunan 90 adet morgdan birinde ücretsiz olarak defin gününe kadar bekletilebilir.'"
      ]
     },
     "execution_count": 23,
     "metadata": {},
     "output_type": "execute_result"
    }
   ],
   "source": [
    "pipeline.predict([metin_onisle(\"Cenaze / defin işlemi\")])[0]"
   ]
  },
  {
   "cell_type": "code",
   "execution_count": 24,
   "id": "b1ffc41c-a053-471c-8b15-4819466afc28",
   "metadata": {},
   "outputs": [
    {
     "data": {
      "text/plain": [
       "'EGO Genel Müdürlüğü, Hacettepe Üniversitesi Beytepe Kampüsü’ne yoğunluğu sebebiyle ücretsiz 5 solo otobüs hizmeti vermeye başlamıştır. 21 körüklü otobüsün dışında ücretsiz 5 solo otobüs, haftanın 7 günü 06.30-20.00 saatleri arasında Beytepe Metrosu çıkışından Hacettepe Üniversitesi Beytepe Kampüs’ü içine kadar ücretsiz öğrenci taşımaktadır.'"
      ]
     },
     "execution_count": 24,
     "metadata": {},
     "output_type": "execute_result"
    }
   ],
   "source": [
    "pipeline.predict([metin_onisle(\"Öğrencilerin ücretsiz taşındığı hat\")])[0]"
   ]
  },
  {
   "cell_type": "code",
   "execution_count": 26,
   "id": "a5aee2f7",
   "metadata": {},
   "outputs": [],
   "source": [
    "import pickle\n",
    "\n",
    "with open('../ankarabbHibritChatbot/SGDClassifierModel.pickle', 'wb') as handle:\n",
    "    pickle.dump(SGDClassifier, handle, protocol=pickle.HIGHEST_PROTOCOL)\n",
    "    "
   ]
  },
  {
   "cell_type": "code",
   "execution_count": null,
   "id": "c18fc817",
   "metadata": {},
   "outputs": [],
   "source": []
  }
 ],
 "metadata": {
  "kernelspec": {
   "display_name": "Python 3 (ipykernel)",
   "language": "python",
   "name": "python3"
  },
  "language_info": {
   "codemirror_mode": {
    "name": "ipython",
    "version": 3
   },
   "file_extension": ".py",
   "mimetype": "text/x-python",
   "name": "python",
   "nbconvert_exporter": "python",
   "pygments_lexer": "ipython3",
   "version": "3.9.12"
  },
  "vscode": {
   "interpreter": {
    "hash": "1df0eea4252ede35fe93c0f35960b9445b1332ca42ea871324a9eba8a70bf54f"
   }
  }
 },
 "nbformat": 4,
 "nbformat_minor": 5
}
