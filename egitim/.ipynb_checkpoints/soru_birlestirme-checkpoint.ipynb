{
 "cells": [
  {
   "cell_type": "code",
   "execution_count": null,
   "id": "fabff2d5-5a01-4d90-9a81-7670b20746d6",
   "metadata": {},
   "outputs": [],
   "source": [
    "# Pattern oluşturma"
   ]
  },
  {
   "cell_type": "markdown",
   "id": "579f5eba-f599-455b-8f9a-85018443b963",
   "metadata": {},
   "source": [
    "%pip install openpyxl"
   ]
  },
  {
   "cell_type": "code",
   "execution_count": 1,
   "id": "5ac3e23f-48b6-48e9-879b-d82cc2c4c7c2",
   "metadata": {},
   "outputs": [],
   "source": [
    "import pandas as pd"
   ]
  },
  {
   "cell_type": "code",
   "execution_count": 2,
   "id": "b6998f4a-c535-42d0-8d61-668084f6f79b",
   "metadata": {},
   "outputs": [],
   "source": [
    "df = pd.read_excel(\"../veri/ankarabbSoruCevapVeriSeti-v02.xlsx\", engine=\"openpyxl\")"
   ]
  },
  {
   "cell_type": "code",
   "execution_count": 3,
   "id": "81b8df05-013a-4361-a9e0-f32589ca650e",
   "metadata": {},
   "outputs": [
    {
     "data": {
      "text/html": [
       "<div>\n",
       "<style scoped>\n",
       "    .dataframe tbody tr th:only-of-type {\n",
       "        vertical-align: middle;\n",
       "    }\n",
       "\n",
       "    .dataframe tbody tr th {\n",
       "        vertical-align: top;\n",
       "    }\n",
       "\n",
       "    .dataframe thead th {\n",
       "        text-align: right;\n",
       "    }\n",
       "</style>\n",
       "<table border=\"1\" class=\"dataframe\">\n",
       "  <thead>\n",
       "    <tr style=\"text-align: right;\">\n",
       "      <th></th>\n",
       "      <th>etiket</th>\n",
       "      <th>soru</th>\n",
       "      <th>cevap</th>\n",
       "    </tr>\n",
       "  </thead>\n",
       "  <tbody>\n",
       "    <tr>\n",
       "      <th>0</th>\n",
       "      <td>ankara_01</td>\n",
       "      <td>ÖĞRENCİ ABONMAN KARTINDAN YARARLANMA ŞARTLARI ...</td>\n",
       "      <td>1. Ankara Büyükşehir Belediye Başkanımız Sayın...</td>\n",
       "    </tr>\n",
       "    <tr>\n",
       "      <th>1</th>\n",
       "      <td>NaN</td>\n",
       "      <td>Öğrenciler için abonman kart şartları nedir</td>\n",
       "      <td>NaN</td>\n",
       "    </tr>\n",
       "    <tr>\n",
       "      <th>2</th>\n",
       "      <td>NaN</td>\n",
       "      <td>Abonman kart öğrenci şartları</td>\n",
       "      <td>NaN</td>\n",
       "    </tr>\n",
       "    <tr>\n",
       "      <th>3</th>\n",
       "      <td>NaN</td>\n",
       "      <td>Abonman kart için öğrenciler ne yapmalıdır</td>\n",
       "      <td>NaN</td>\n",
       "    </tr>\n",
       "    <tr>\n",
       "      <th>4</th>\n",
       "      <td>NaN</td>\n",
       "      <td>İndirimli Abonman Kart için öğrencilerin yapma...</td>\n",
       "      <td>NaN</td>\n",
       "    </tr>\n",
       "    <tr>\n",
       "      <th>...</th>\n",
       "      <td>...</td>\n",
       "      <td>...</td>\n",
       "      <td>...</td>\n",
       "    </tr>\n",
       "    <tr>\n",
       "      <th>853</th>\n",
       "      <td>NaN</td>\n",
       "      <td>Atıksu bedeli nedir</td>\n",
       "      <td>NaN</td>\n",
       "    </tr>\n",
       "    <tr>\n",
       "      <th>854</th>\n",
       "      <td>NaN</td>\n",
       "      <td>Atıksu bedeli neden alınır</td>\n",
       "      <td>NaN</td>\n",
       "    </tr>\n",
       "    <tr>\n",
       "      <th>855</th>\n",
       "      <td>NaN</td>\n",
       "      <td>Atıksu bedeli hukuki dayanakları nelerdir</td>\n",
       "      <td>NaN</td>\n",
       "    </tr>\n",
       "    <tr>\n",
       "      <th>856</th>\n",
       "      <td>NaN</td>\n",
       "      <td>Atıksu bedeli ne zaman alınmaya başlanmıştır</td>\n",
       "      <td>NaN</td>\n",
       "    </tr>\n",
       "    <tr>\n",
       "      <th>857</th>\n",
       "      <td>NaN</td>\n",
       "      <td>Ne zaman atıksu bedeli alınmaya başlanmıştır</td>\n",
       "      <td>NaN</td>\n",
       "    </tr>\n",
       "  </tbody>\n",
       "</table>\n",
       "<p>858 rows × 3 columns</p>\n",
       "</div>"
      ],
      "text/plain": [
       "        etiket                                               soru  \\\n",
       "0    ankara_01  ÖĞRENCİ ABONMAN KARTINDAN YARARLANMA ŞARTLARI ...   \n",
       "1          NaN        Öğrenciler için abonman kart şartları nedir   \n",
       "2          NaN                      Abonman kart öğrenci şartları   \n",
       "3          NaN         Abonman kart için öğrenciler ne yapmalıdır   \n",
       "4          NaN  İndirimli Abonman Kart için öğrencilerin yapma...   \n",
       "..         ...                                                ...   \n",
       "853        NaN                                Atıksu bedeli nedir   \n",
       "854        NaN                         Atıksu bedeli neden alınır   \n",
       "855        NaN          Atıksu bedeli hukuki dayanakları nelerdir   \n",
       "856        NaN       Atıksu bedeli ne zaman alınmaya başlanmıştır   \n",
       "857        NaN       Ne zaman atıksu bedeli alınmaya başlanmıştır   \n",
       "\n",
       "                                                 cevap  \n",
       "0    1. Ankara Büyükşehir Belediye Başkanımız Sayın...  \n",
       "1                                                  NaN  \n",
       "2                                                  NaN  \n",
       "3                                                  NaN  \n",
       "4                                                  NaN  \n",
       "..                                                 ...  \n",
       "853                                                NaN  \n",
       "854                                                NaN  \n",
       "855                                                NaN  \n",
       "856                                                NaN  \n",
       "857                                                NaN  \n",
       "\n",
       "[858 rows x 3 columns]"
      ]
     },
     "execution_count": 3,
     "metadata": {},
     "output_type": "execute_result"
    }
   ],
   "source": [
    "df"
   ]
  },
  {
   "cell_type": "code",
   "execution_count": 4,
   "id": "4af67633-5fcd-4025-acd4-bff401587d3b",
   "metadata": {},
   "outputs": [
    {
     "data": {
      "text/plain": [
       "nan"
      ]
     },
     "execution_count": 4,
     "metadata": {},
     "output_type": "execute_result"
    }
   ],
   "source": [
    "df.values[1][0]"
   ]
  },
  {
   "cell_type": "code",
   "execution_count": 5,
   "id": "015b57db-2e90-49c0-b3fe-3d59d09f9636",
   "metadata": {},
   "outputs": [],
   "source": [
    "import json"
   ]
  },
  {
   "cell_type": "code",
   "execution_count": 6,
   "id": "054dd70c-0a28-4722-81da-c5bee6168d02",
   "metadata": {},
   "outputs": [],
   "source": [
    "data = {}"
   ]
  },
  {
   "cell_type": "code",
   "execution_count": 7,
   "id": "3dde2905-b898-433d-a36f-8db47ac643fd",
   "metadata": {},
   "outputs": [],
   "source": [
    "allQuestions = []"
   ]
  },
  {
   "cell_type": "code",
   "execution_count": 8,
   "id": "17133213-386f-4dc2-9905-d574111a98cb",
   "metadata": {},
   "outputs": [],
   "source": [
    "index = {}"
   ]
  },
  {
   "cell_type": "code",
   "execution_count": 9,
   "id": "b82b1572-af00-4be7-b5e1-efd42af53667",
   "metadata": {},
   "outputs": [],
   "source": [
    "indexTag = str()"
   ]
  },
  {
   "cell_type": "code",
   "execution_count": 10,
   "id": "413647c2-f578-4398-bf0c-8e68f7d1cd25",
   "metadata": {},
   "outputs": [],
   "source": [
    "indexPatterns = []"
   ]
  },
  {
   "cell_type": "code",
   "execution_count": 11,
   "id": "b122ddec-88a6-4352-82a8-dd79d479a8bd",
   "metadata": {},
   "outputs": [],
   "source": [
    "indexResponses = []"
   ]
  },
  {
   "cell_type": "code",
   "execution_count": 36,
   "id": "11403a2e-c6a2-4d58-9cff-d1a98516f929",
   "metadata": {},
   "outputs": [
    {
     "name": "stdout",
     "output_type": "stream",
     "text": [
      "ben geldim\n"
     ]
    },
    {
     "data": {
      "text/plain": [
       "{'Tüm Sorular': [{'Tag': '', 'Patterns': [], 'Responses': []},\n",
       "  {'Tag': {}, 'Patterns': {}, 'Responses': {}},\n",
       "  {'Tag': {}, 'Patterns': {}, 'Responses': {}},\n",
       "  {'Tag': {}, 'Patterns': {}, 'Responses': {}},\n",
       "  {'Tag': {}, 'Patterns': {}, 'Responses': {}},\n",
       "  {'Tag': {}, 'Patterns': {}, 'Responses': {}},\n",
       "  {'Tag': {}, 'Patterns': {}, 'Responses': {}},\n",
       "  {'Tag': {}, 'Patterns': {}, 'Responses': {}},\n",
       "  {'Tag': {}, 'Patterns': {}, 'Responses': {}},\n",
       "  {'Tag': {}, 'Patterns': {}, 'Responses': {}},\n",
       "  {'Tag': {}, 'Patterns': {}, 'Responses': {}},\n",
       "  {'Tag': {}, 'Patterns': {}, 'Responses': {}},\n",
       "  {'Tag': {}, 'Patterns': {}, 'Responses': {}},\n",
       "  {'Tag': {}, 'Patterns': {}, 'Responses': {}},\n",
       "  {'Tag': {}, 'Patterns': {}, 'Responses': {}},\n",
       "  {'Tag': '', 'Patterns': {}, 'Responses': {}},\n",
       "  {'Tag': '', 'Patterns': {}, 'Responses': {}},\n",
       "  {'Tag': '', 'Patterns': {}, 'Responses': {}},\n",
       "  {'Tag': '', 'Patterns': {}, 'Responses': {}},\n",
       "  {'Tag': '', 'Patterns': {}, 'Responses': {}},\n",
       "  {'Tag': '', 'Patterns': {}, 'Responses': {}},\n",
       "  {'Tag': '', 'Patterns': {}, 'Responses': {}},\n",
       "  {'Tag': '', 'Patterns': {}, 'Responses': {}},\n",
       "  {'Tag': '', 'Patterns': {}, 'Responses': {}},\n",
       "  {'Tag': '', 'Patterns': {}, 'Responses': {}},\n",
       "  {'Tag': '', 'Patterns': {}, 'Responses': {}},\n",
       "  {'Tag': '', 'Patterns': {}, 'Responses': {}},\n",
       "  {'Tag': '', 'Patterns': {}, 'Responses': {}},\n",
       "  {'Tag': '', 'Patterns': {}, 'Responses': {}},\n",
       "  {'Tag': '', 'Patterns': {}, 'Responses': {}},\n",
       "  {'Tag': '', 'Patterns': {}, 'Responses': {}},\n",
       "  {'Tag': '', 'Patterns': {}, 'Responses': {}},\n",
       "  {'Tag': '', 'Patterns': {}, 'Responses': {}},\n",
       "  {'Tag': '', 'Patterns': {}, 'Responses': {}},\n",
       "  {'Tag': '', 'Patterns': {}, 'Responses': {}},\n",
       "  {'Tag': '', 'Patterns': {}, 'Responses': {}},\n",
       "  {'Tag': '', 'Patterns': {}, 'Responses': {}},\n",
       "  {'Tag': '', 'Patterns': {}, 'Responses': {}}]}"
      ]
     },
     "execution_count": 36,
     "metadata": {},
     "output_type": "execute_result"
    }
   ],
   "source": [
    "import numpy as np\n",
    "m = 0\n",
    "for i in df.values[:2]:\n",
    "    # print(type(i[0]), np.isnan(i[0]))\n",
    "    if str(i[0]) == \"nan\" and str(i[2]) == \"nan\":\n",
    "        m += 1\n",
    "    \n",
    "    \n",
    "    \n",
    "    index[\"Tag\"] = indexTag\n",
    "    index[\"Patterns\"] = indexPatterns\n",
    "    index[\"Responses\"] = indexResponses    \n",
    "    \n",
    "    allQuestions.append(index)\n",
    "    index = {}\n",
    "    indexTag = str()\n",
    "    indexPatterns = {}\n",
    "    indexResponses = {}\n",
    "data[\"Tüm Sorular\"] = allQuestions\n",
    "data"
   ]
  },
  {
   "cell_type": "code",
   "execution_count": null,
   "id": "56c6b619-f79c-4fe5-8c15-f4403c02a40c",
   "metadata": {},
   "outputs": [],
   "source": [
    "print(m)"
   ]
  },
  {
   "cell_type": "code",
   "execution_count": null,
   "id": "9c41eded-f518-40fd-a726-0303bbeac635",
   "metadata": {},
   "outputs": [],
   "source": []
  },
  {
   "cell_type": "code",
   "execution_count": null,
   "id": "e19a5a1a-24c6-4ae8-9649-7e138c7c875c",
   "metadata": {},
   "outputs": [],
   "source": []
  }
 ],
 "metadata": {
  "kernelspec": {
   "display_name": "Python 3 (ipykernel)",
   "language": "python",
   "name": "python3"
  },
  "language_info": {
   "codemirror_mode": {
    "name": "ipython",
    "version": 3
   },
   "file_extension": ".py",
   "mimetype": "text/x-python",
   "name": "python",
   "nbconvert_exporter": "python",
   "pygments_lexer": "ipython3",
   "version": "3.9.12"
  }
 },
 "nbformat": 4,
 "nbformat_minor": 5
}
