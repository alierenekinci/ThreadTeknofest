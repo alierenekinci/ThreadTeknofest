{
 "cells": [
  {
   "cell_type": "markdown",
   "id": "46426d96-f2e5-4611-9d29-014b9f6d7223",
   "metadata": {
    "tags": []
   },
   "source": [
    "# https://www.kaggle.com/code/akshitrai/chatbot-jarvis"
   ]
  },
  {
   "cell_type": "code",
   "execution_count": 1,
   "id": "9a8643b4-de90-4d6f-b445-799d94a237f1",
   "metadata": {},
   "outputs": [],
   "source": [
    "import os\n",
    "import json\n",
    "import numpy as np \n",
    "import string\n",
    "from unicode_tr import unicode_tr\n",
    "from nltk.corpus import stopwords\n",
    "from snowballstemmer import TurkishStemmer\n",
    "from nltk import ngrams\n",
    "import pandas as pd \n",
    "from sklearn.feature_extraction.text import CountVectorizer\n",
    "from sklearn.tree import DecisionTreeClassifier\n",
    "from sklearn.feature_extraction.text import TfidfTransformer,TfidfVectorizer\n",
    "from sklearn.pipeline import Pipeline"
   ]
  },
  {
   "cell_type": "code",
   "execution_count": 2,
   "id": "b8fab2e4-e620-4db7-b10a-b9733d7e2122",
   "metadata": {},
   "outputs": [],
   "source": [
    "path = r'C:\\Users\\alierenekinci\\Desktop\\Project\\ThreadTeknofest\\veri'\n",
    "\n",
    "def yukle():\n",
    "    liste = os.listdir(path)\n",
    "    final_path = path + \"\\\\\" + liste[-1]\n",
    "    print(final_path)\n",
    "    with open(final_path, encoding='utf-8') as f:\n",
    "        veri = json.load(f)\n",
    "    return veri"
   ]
  },
  {
   "cell_type": "code",
   "execution_count": 4,
   "id": "230e62b2-bae3-4e06-90f9-3958667fa291",
   "metadata": {},
   "outputs": [
    {
     "name": "stdout",
     "output_type": "stream",
     "text": [
      "C:\\Users\\alierenekinci\\Desktop\\Project\\ThreadTeknofest\\veri\\ankarabbSoruCevapVeriSetiJson-v12-onislenmis.json\n"
     ]
    }
   ],
   "source": [
    "df_ = yukle()"
   ]
  },
  {
   "cell_type": "code",
   "execution_count": 5,
   "id": "40d25087-db95-495e-b2cf-9371f0b6aff6",
   "metadata": {},
   "outputs": [],
   "source": [
    "questions, responses = [],[]\n",
    "\n",
    "\n",
    "for veri_ in df_:\n",
    "    for i, j in enumerate(df_[veri_]):\n",
    "        for k,l in enumerate(j[\"patterns\"]):\n",
    "            questions.append(l)\n",
    "            responses.append(df_[veri_][i][\"responses\"][0])\n",
    "        # for k,l in enumerate(j[\"responses\"]):\n",
    "        #     responses.append(l)"
   ]
  },
  {
   "cell_type": "code",
   "execution_count": 6,
   "id": "08535ed7-0561-4edb-a059-bf30ced34b8a",
   "metadata": {},
   "outputs": [],
   "source": [
    "df = pd.DataFrame([questions,responses]).T"
   ]
  },
  {
   "cell_type": "code",
   "execution_count": null,
   "id": "bc404a50",
   "metadata": {},
   "outputs": [],
   "source": [
    "df"
   ]
  },
  {
   "cell_type": "code",
   "execution_count": 7,
   "id": "dd8b3c6c-5a36-4391-bb18-368f2e8d765a",
   "metadata": {},
   "outputs": [],
   "source": [
    "Pipe = Pipeline([\n",
    "    ('bow',CountVectorizer()),\n",
    "    ('tfidf',TfidfTransformer()),\n",
    "    ('classifier', DecisionTreeClassifier())\n",
    "])"
   ]
  },
  {
   "cell_type": "code",
   "execution_count": 8,
   "id": "9271cbb3-cfc5-431c-a85e-46def63438f1",
   "metadata": {},
   "outputs": [
    {
     "data": {
      "text/plain": [
       "Pipeline(steps=[('bow', CountVectorizer()), ('tfidf', TfidfTransformer()),\n",
       "                ('classifier', RandomForestClassifier())])"
      ]
     },
     "execution_count": 8,
     "metadata": {},
     "output_type": "execute_result"
    }
   ],
   "source": [
    "Pipe.fit(df[0],df[1])"
   ]
  },
  {
   "cell_type": "code",
   "execution_count": 9,
   "id": "3d931ac9-a3ed-420d-b41c-8112cf67e46c",
   "metadata": {},
   "outputs": [],
   "source": [
    "def metin_onisle(metin):\n",
    "    kucuk_harfli_metin = unicode_tr(metin).lower()\n",
    "    istenen_karakterler = set(list(' abcdefghijklmnopqrstuvwxyzâçîöüğış0123456789'))\n",
    "    harfler = list(kucuk_harfli_metin)\n",
    "    harfler = [k if k in istenen_karakterler else ' ' for k in harfler]\n",
    "    temiz_dokuman = \"\".join(kucuk_harfli_metin)\n",
    "    temiz_dokuman_kelimeleri = temiz_dokuman.split(' ')\n",
    "    temiz_dokuman_kelimeleri = [kelime for kelime in temiz_dokuman_kelimeleri if len(kelime) > 0]\n",
    "    turkStem=TurkishStemmer()\n",
    "    temiz_dokuman_kelimeleri = [turkStem.stemWord(kelime) for kelime in temiz_dokuman_kelimeleri]\n",
    "    n = 2\n",
    "    bigrams = ngrams(temiz_dokuman_kelimeleri, n)\n",
    "    bigramstr = map(''.join, bigrams)\n",
    "    ngram = \" \".join(list(bigramstr))\n",
    "    temiz_dokuman = \" \".join(temiz_dokuman_kelimeleri) + \" \" +  \"\".join(ngram)\n",
    "    return temiz_dokuman"
   ]
  },
  {
   "cell_type": "code",
   "execution_count": 23,
   "id": "2634de48-e222-4b70-9ab6-c114bfae42fa",
   "metadata": {},
   "outputs": [
    {
     "data": {
      "text/plain": [
       "'Evlendirme Şube Müdürlüğü evlenmek için başvuruda bulunan Türk vatandaşı ve Yabancı uyruklu kişilerin evlilik başvurularını almakta ve Gençlik Parkı içerisinde 1 adet oda nikah salonunda oda nikahı hizmeti ve Ankara mücavir alan sınırları içerinde bulunan çiftlerin belirlediği mekanlara nikah memuru göndererek nikah hizmeti vermektedir.'"
      ]
     },
     "execution_count": 23,
     "metadata": {},
     "output_type": "execute_result"
    }
   ],
   "source": [
    "Pipe.predict([metin_onisle(\"Evlendirme İşlemleri Hizmetleri bilgi\")])[0]"
   ]
  },
  {
   "cell_type": "code",
   "execution_count": 32,
   "id": "1f65c8f8-352b-4edf-a148-d5efe22d7553",
   "metadata": {},
   "outputs": [
    {
     "data": {
      "text/plain": [
       "'Türkiye’nin en kapsamlı şehir kartı bir çok alanda hayatınızı kolaylaştırırken, siz de herhangi bir kart aidatı ödemezsiniz.'"
      ]
     },
     "execution_count": 32,
     "metadata": {},
     "output_type": "execute_result"
    }
   ],
   "source": [
    "Pipe.predict([metin_onisle(\"Başkent Kartın Aidat Ücreti\")])[0]"
   ]
  },
  {
   "cell_type": "code",
   "execution_count": 34,
   "id": "8288e4cb-7bee-4a7f-96c6-76e8f1c0651d",
   "metadata": {},
   "outputs": [
    {
     "data": {
      "text/plain": [
       "'Ailesinden birini kaybeden Ankaralılar, \"Alo 188\" Cenaze Merkezi\\'ni ve ya Başkent 153’ü arayarak yardım talebinde bulunabilirler. Merkez, ölüm raporunun alınmasından dini vecibelerin yerine getirilmesine kadar tüm hizmetleri ücretsiz olarak gerçekleştirmektedir. Tüm nakiller Büyükşehir Belediyesi\\'nin cenaze araçlarıyla yapılmaktadır. ALO 188 ekipleri, defin işleminin sonuna kadar vatandaşa destek sağlamaktadır.\\n\\nVefat olaylarında vatandaşların yapması gerekenler şunlardır:\\n\\n-Yaşanan bir ölüm olayında ALO 188 ücretsiz cenaze hattı aranarak bilgi verilir.\\n-Kişi evde vefat etmişse ALO 188 ya da İlçe Belediyesi Cenaze Hizmetlerini arayarak , hastanede vefat etmiş ise hastanenin ilgili biriminden ölüm belgesi alınır.\\n-Ölüm raporuyla vefat eden kişinin bağlı bulunduğu ilçe belediyesine müracaat edilir. Daha önce temin edilmiş mezar yeri yoksa veya mükerrer defin yapılmayacaksa Mezarlıklar Müdürlüğü ile görüşülmelidir.\\n-Fakir ve kimsesiz kişilerden durumlarını belgelemeleri halinde mezar ücreti alınmaz. Vefat edilen yerden cenaze alınarak, görevli ekipler tarafından yakınları eşliğinde ücretsiz olarak yıkanır ve kefenlenir.\\n-Camide gerekli dini vecibelerin yerine getirilmesinden sonra cenaze, araçlarla defin yerine götürülerek toprağa verilir.\\n-Kabir başında din görevlileri hazır bulunur ve ücretsiz olarak hizmet verir. Bu görevlilere herhangi bir ödeme yapılmaz ve kesinlikle bahşiş verilmez.\\n-Cenaze hemen defnedilmeyecekse Karşıyaka, Sincan ve Gölbaşı mezarlıklarında bulunan 90 adet morgdan birinde ücretsiz olarak defin gününe kadar bekletilebilir.'"
      ]
     },
     "execution_count": 34,
     "metadata": {},
     "output_type": "execute_result"
    }
   ],
   "source": [
    "Pipe.predict([metin_onisle(\"Cenaze / defin işlemi\")])[0]"
   ]
  },
  {
   "cell_type": "code",
   "execution_count": 35,
   "id": "b1ffc41c-a053-471c-8b15-4819466afc28",
   "metadata": {},
   "outputs": [
    {
     "data": {
      "text/plain": [
       "'EGO Genel Müdürlüğü, Hacettepe Üniversitesi Beytepe Kampüsü’ne yoğunluğu sebebiyle ücretsiz 5 solo otobüs hizmeti vermeye başlamıştır. 21 körüklü otobüsün dışında ücretsiz 5 solo otobüs, haftanın 7 günü 06.30-20.00 saatleri arasında Beytepe Metrosu çıkışından Hacettepe Üniversitesi Beytepe Kampüs’ü içine kadar ücretsiz öğrenci taşımaktadır.'"
      ]
     },
     "execution_count": 35,
     "metadata": {},
     "output_type": "execute_result"
    }
   ],
   "source": [
    "\n",
    "\n",
    "Pipe.predict([metin_onisle(\"Öğrencilerin ücretsiz taşındığı hat\")])[0]"
   ]
  },
  {
   "cell_type": "code",
   "execution_count": null,
   "id": "7c57500e-9979-46e3-9e84-136311582b8d",
   "metadata": {},
   "outputs": [],
   "source": [
    "# sistem kendine update etsin, dışarıdan soru geli"
   ]
  }
 ],
 "metadata": {
  "kernelspec": {
   "display_name": "Python 3 (ipykernel)",
   "language": "python",
   "name": "python3"
  },
  "language_info": {
   "codemirror_mode": {
    "name": "ipython",
    "version": 3
   },
   "file_extension": ".py",
   "mimetype": "text/x-python",
   "name": "python",
   "nbconvert_exporter": "python",
   "pygments_lexer": "ipython3",
   "version": "3.9.12"
  },
  "vscode": {
   "interpreter": {
    "hash": "1df0eea4252ede35fe93c0f35960b9445b1332ca42ea871324a9eba8a70bf54f"
   }
  }
 },
 "nbformat": 4,
 "nbformat_minor": 5
}
